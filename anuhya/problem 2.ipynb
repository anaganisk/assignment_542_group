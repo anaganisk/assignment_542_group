{
 "cells": [
  {
   "cell_type": "markdown",
   "id": "d18ee4ab",
   "metadata": {},
   "source": [
    "# 121. Best Time to Buy and Sell Stock\n",
    "\n"
   ]
  },
  {
   "cell_type": "code",
   "execution_count": 122,
   "id": "1ad67344",
   "metadata": {},
   "outputs": [],
   "source": [
    "prices = [2, 4, 1]"
   ]
  },
  {
   "cell_type": "code",
   "execution_count": 123,
   "id": "9e54ba70",
   "metadata": {},
   "outputs": [],
   "source": [
    "def maxProfit(prices):\n",
    "    minposition = int(prices.index(min(prices)))\n",
    "    minelement = prices[minposition]\n",
    "    maximumelement = 0\n",
    "    profit = 0\n",
    "    for i in range(minposition+1, len(prices)):\n",
    "        print(i)\n",
    "        if prices[i] > minelement and prices[i] > maximumelement:\n",
    "            print(\"prices[i]\", prices[i])\n",
    "            maximumelement = prices[i]\n",
    "            print(\"maximumelement\", prices[i])\n",
    "        \n",
    "    if maximumelement > minelement:\n",
    "        profit = maximumelement - minelement    \n",
    "    return profit"
   ]
  },
  {
   "cell_type": "code",
   "execution_count": 124,
   "id": "697b4e0b",
   "metadata": {},
   "outputs": [
    {
     "data": {
      "text/plain": [
       "0"
      ]
     },
     "execution_count": 124,
     "metadata": {},
     "output_type": "execute_result"
    }
   ],
   "source": [
    "maxProfit(prices)"
   ]
  },
  {
   "cell_type": "code",
   "execution_count": null,
   "id": "0e8559d1",
   "metadata": {},
   "outputs": [],
   "source": []
  },
  {
   "cell_type": "code",
   "execution_count": null,
   "id": "9394f10f",
   "metadata": {},
   "outputs": [],
   "source": []
  }
 ],
 "metadata": {
  "kernelspec": {
   "display_name": "Python 3 (ipykernel)",
   "language": "python",
   "name": "python3"
  },
  "language_info": {
   "codemirror_mode": {
    "name": "ipython",
    "version": 3
   },
   "file_extension": ".py",
   "mimetype": "text/x-python",
   "name": "python",
   "nbconvert_exporter": "python",
   "pygments_lexer": "ipython3",
   "version": "3.9.12"
  }
 },
 "nbformat": 4,
 "nbformat_minor": 5
}
